{
 "cells": [
  {
   "cell_type": "markdown",
   "metadata": {},
   "source": [
    "---\n",
    "title: \"Draw Porkchop Plot from Earth to Mars\" \\\n",
    "author: \"Naoya Ozaki\" \\\n",
    "date: \"21 August 2022\" \\\n",
    "output: \"earth2mars_porkchop\"\n",
    "\n",
    "---"
   ]
  },
  {
   "cell_type": "markdown",
   "metadata": {},
   "source": [
    "## 1. SPICE Setup\n",
    "Import SPICE library and download generic kernels.\n",
    "This process takes long time because of downloading the large file (~120MB)."
   ]
  },
  {
   "cell_type": "code",
   "execution_count": 1,
   "metadata": {},
   "outputs": [],
   "source": [
    "import SPICE\n",
    "using Downloads\n",
    "\n",
    "# Download generic kernels\n",
    "# genker_naif0012 = Downloads.download(\"https://naif.jpl.nasa.gov/pub/naif/generic_kernels/lsk/naif0012.tls\")\n",
    "# genker_gm_de431 = Downloads.download(\"https://naif.jpl.nasa.gov/pub/naif/generic_kernels/pck/gm_de431.tpc\")\n",
    "# genker_de440 = Downloads.download(\"https://naif.jpl.nasa.gov/pub/naif/generic_kernels/spk/planets//de440.bsp\")\n",
    "\n",
    "genker_naif0012 = \"/Users/naoya/Library/CloudStorage/GoogleDrive-naoya.ozaki11@gmail.com/My Drive/21_Programming/SPICE/generic_kernels/lsk/naif0012.tls\"\n",
    "genker_gm_de431 = \"/Users/naoya/Library/CloudStorage/GoogleDrive-naoya.ozaki11@gmail.com/My Drive/21_Programming/SPICE/generic_kernels/pck/gm_de431.tpc\"\n",
    "genker_de440 = \"/Users/naoya/Library/CloudStorage/GoogleDrive-naoya.ozaki11@gmail.com/My Drive/21_Programming/SPICE/generic_kernels/spk/planets//de440.bsp\"\n",
    "\n",
    "# Load generic kernels\n",
    "SPICE.furnsh(genker_naif0012) # Leap seconds kernel\n",
    "SPICE.furnsh(genker_gm_de431) # Gravity Constant\n",
    "SPICE.furnsh(genker_de440) # Planetary ephemeris kernel"
   ]
  },
  {
   "cell_type": "markdown",
   "metadata": {},
   "source": [
    "## 2. Solve Lambert's Problem\n",
    "Solve Lambert's problem as a test case"
   ]
  },
  {
   "cell_type": "code",
   "execution_count": 2,
   "metadata": {},
   "outputs": [
    {
     "data": {
      "text/plain": [
       "([-12.146901903784702; -30.249196666164888; 1.7328230818673045;;], [-5.062557143526499; 22.77374756805452; -1.0435265077509397;;], 1)"
      ]
     },
     "execution_count": 2,
     "metadata": {},
     "output_type": "execute_result"
    }
   ],
   "source": [
    "using LambertProblem\n",
    "using LinearAlgebra\n",
    "\n",
    "# Gravity Constant\n",
    "μ = SPICE.bodvrd(\"SUN\", \"GM\", 1)[1]\n",
    "\n",
    "# Flight Time\n",
    "et1 = SPICE.str2et(\"2031/03/01 00:00:00 UTC\") # 地球出発日時, UTC\n",
    "et2 = SPICE.str2et(\"2032/01/01 00:00:00 UTC\") # 火星到着日時, UTC\n",
    "tof = et2 - et1 # 飛行時間\n",
    "\n",
    "#　Earth and Mars Orbital Element\n",
    "state_earth, _ = SPICE.spkez(399, et1, \"ECLIPJ2000\", \"NONE\", 10)\n",
    "state_mars, _ = SPICE.spkez(4, et2, \"ECLIPJ2000\", \"NONE\", 10)\n",
    "\n",
    "r1 = state_earth[1:3]\n",
    "r2 = state_mars[1:3]\n",
    "\n",
    "# Solve Lambert's Problem\n",
    "v1, v2, num_sol = lambert_problem(r1,r2,tof,μ,2)"
   ]
  },
  {
   "cell_type": "markdown",
   "metadata": {},
   "source": [
    "## 3. Run Multiple Lambert's Problems"
   ]
  },
  {
   "cell_type": "code",
   "execution_count": 3,
   "metadata": {},
   "outputs": [
    {
     "name": "stdout",
     "output_type": "stream",
     "text": [
      "(iter, xn, xn_new, tn, tof, λ, m) = (0, -0.7221940395196023, -350.57017784769425, 8.594011028083463, 0.5717178614154697, 0.5250183697436432, 0)\n"
     ]
    },
    {
     "ename": "LoadError",
     "evalue": "DomainError with -3.874505637213588e-6:\nlog will only return a complex result if called with a complex argument. Try log(Complex(x)).",
     "output_type": "error",
     "traceback": [
      "DomainError with -3.874505637213588e-6:\nlog will only return a complex result if called with a complex argument. Try log(Complex(x)).",
      "",
      "Stacktrace:",
      "  [1] throw_complex_domainerror(f::Symbol, x::Float64)",
      "    @ Base.Math ./math.jl:33",
      "  [2] _log(x::Float64, base::Val{:ℯ}, func::Symbol)",
      "    @ Base.Math ./special/log.jl:304",
      "  [3] log",
      "    @ ./special/log.jl:269 [inlined]",
      "  [4] x2tof(x::Float64, λ::Float64, m_max::Int64, Δx_battin::Float64, Δx_lagrange::Float64)",
      "    @ LambertProblem ~/Git/LambertProblem.jl/src/LambertProblem.jl:170",
      "  [5] x2tof",
      "    @ ~/Git/LambertProblem.jl/src/LambertProblem.jl:134 [inlined]",
      "  [6] find_x_by_householder(tof::Float64, xn::Float64, λ::Float64, m::Int64, tol_Δx::Float64, max_iter::Int64)",
      "    @ LambertProblem ~/Git/LambertProblem.jl/src/LambertProblem.jl:268",
      "  [7] find_x_by_householder",
      "    @ ~/Git/LambertProblem.jl/src/LambertProblem.jl:263 [inlined]",
      "  [8] find_xy(λ::Float64, tof::Float64, m_multi_revs::Int64)",
      "    @ LambertProblem ~/Git/LambertProblem.jl/src/LambertProblem.jl:243",
      "  [9] lambert_problem(r1::Vector{Float64}, r2::Vector{Float64}, tof::Float64, μ::Float64, multi_revs::Int64, is_retrograde::Bool)",
      "    @ LambertProblem ~/Git/LambertProblem.jl/src/LambertProblem.jl:102",
      " [10] lambert_problem(r1::Vector{Float64}, r2::Vector{Float64}, tof::Float64, μ::Float64, multi_revs::Int64)",
      "    @ LambertProblem ~/Git/LambertProblem.jl/src/LambertProblem.jl:22",
      " [11] top-level scope",
      "    @ ./In[3]:33",
      " [12] eval",
      "    @ ./boot.jl:373 [inlined]",
      " [13] include_string(mapexpr::typeof(REPL.softscope), mod::Module, code::String, filename::String)",
      "    @ Base ./loading.jl:1196"
     ]
    }
   ],
   "source": [
    "# Gravity Constant\n",
    "μ = SPICE.bodvrd(\"SUN\", \"GM\", 1)[1]\n",
    "\n",
    "# Flight Time\n",
    "utc1_ini = \"2031/03/01 00:00:00 UTC\" # 地球出発日時, UTC\n",
    "utc2_ini = \"2032/01/01 00:00:00 UTC\" #  火星到着日時, UTC\n",
    "et1_ini = SPICE.str2et(utc1_ini) \n",
    "et2_ini = SPICE.str2et(utc2_ini)\n",
    "\n",
    "# Number of Time Grid\n",
    "delta_et = 1.0*86400 # 5 days -> sec\n",
    "num_grid_et1 = 1000\n",
    "num_grid_et2 = 1200\n",
    "\n",
    "# Declare Data Storage\n",
    "vinf1_all = zeros(num_grid_et1, num_grid_et2)\n",
    "vinf2_all = zeros(num_grid_et1, num_grid_et2)\n",
    "\n",
    "# Iteration\n",
    "for i = 1:num_grid_et1\n",
    "    for j = 1:num_grid_et2\n",
    "        # Calculate Transfer Time\n",
    "        et1 = et1_ini + (i-1)*delta_et\n",
    "        et2 = et2_ini + (j-1)*delta_et\n",
    "        tof_sec = et2 - et1\n",
    "\n",
    "        if tof_sec > 1.0\n",
    "            # Get Earth and Mars Positions\n",
    "            state_earth, _ = SPICE.spkez(399, et1, \"ECLIPJ2000\", \"NONE\", 10)\n",
    "            state_mars, _ = SPICE.spkez(4, et2, \"ECLIPJ2000\", \"NONE\", 10)\n",
    "\n",
    "            # Solve Lambert's Problem\n",
    "            v1, v2, num_sol = lambert_problem(state_earth[1:3],state_mars[1:3],tof_sec,μ,0)\n",
    "            vinf1_all[i,j] = norm(v1-state_earth[4:6])\n",
    "            vinf2_all[i,j] = norm(v2-state_mars[4:6])\n",
    "        end\n",
    "    end\n",
    "end\n",
    "\n"
   ]
  },
  {
   "cell_type": "code",
   "execution_count": null,
   "metadata": {},
   "outputs": [],
   "source": [
    "using Plots\n",
    "using LaTeXStrings\n",
    "f = contourf(vinf1_all',levels = range(0, 12, length = 12), c = :jet1, \n",
    "        xlabel=\"Day from \"*utc1_ini, \n",
    "        ylabel=\"Day from \"*utc2_ini,\n",
    "        clims=(0,12),\n",
    "        title=L\"Departure $V_{\\infty}$\"\n",
    ")"
   ]
  },
  {
   "cell_type": "code",
   "execution_count": null,
   "metadata": {},
   "outputs": [],
   "source": []
  }
 ],
 "metadata": {
  "kernelspec": {
   "display_name": "Julia 1.7.2",
   "language": "julia",
   "name": "julia-1.7"
  },
  "language_info": {
   "file_extension": ".jl",
   "mimetype": "application/julia",
   "name": "julia",
   "version": "1.7.2"
  },
  "orig_nbformat": 4
 },
 "nbformat": 4,
 "nbformat_minor": 2
}
