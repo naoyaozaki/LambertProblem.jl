{
 "cells": [
  {
   "cell_type": "markdown",
   "metadata": {},
   "source": [
    "---\n",
    "title: \"Draw Porkchop Plot from Earth to Mars\" \\\n",
    "author: \"Naoya Ozaki\" \\\n",
    "date: \"21 August 2022\" \\\n",
    "output: \"earth2mars_porkchop\"\n",
    "\n",
    "---"
   ]
  },
  {
   "cell_type": "markdown",
   "metadata": {},
   "source": [
    "## 1. SPICE Setup\n",
    "Import SPICE library and download generic kernels.\n",
    "This process takes long time because of downloading the large file (~120MB)."
   ]
  },
  {
   "cell_type": "code",
   "execution_count": 1,
   "metadata": {},
   "outputs": [],
   "source": [
    "import SPICE\n",
    "using Downloads\n",
    "\n",
    "# Download generic kernels\n",
    "# genker_naif0012 = Downloads.download(\"https://naif.jpl.nasa.gov/pub/naif/generic_kernels/lsk/naif0012.tls\")\n",
    "# genker_gm_de431 = Downloads.download(\"https://naif.jpl.nasa.gov/pub/naif/generic_kernels/pck/gm_de431.tpc\")\n",
    "# genker_de440 = Downloads.download(\"https://naif.jpl.nasa.gov/pub/naif/generic_kernels/spk/planets//de440.bsp\")\n",
    "genker_naif0012 = \"/Users/naoya/Library/CloudStorage/GoogleDrive-naoya.ozaki11@gmail.com/My Drive/21_Programming/SPICE/generic_kernels/lsk/naif0012.tls\"\n",
    "genker_gm_de431 = \"/Users/naoya/Library/CloudStorage/GoogleDrive-naoya.ozaki11@gmail.com/My Drive/21_Programming/SPICE/generic_kernels/pck/gm_de431.tpc\"\n",
    "genker_de440 = \"/Users/naoya/Library/CloudStorage/GoogleDrive-naoya.ozaki11@gmail.com/My Drive/21_Programming/SPICE/generic_kernels/spk/planets//de440.bsp\"\n",
    "\n",
    "# Load generic kernels\n",
    "SPICE.furnsh(genker_naif0012) # Leap seconds kernel\n",
    "SPICE.furnsh(genker_gm_de431) # Gravity Constant\n",
    "SPICE.furnsh(genker_de440) # Planetary ephemeris kernel"
   ]
  },
  {
   "cell_type": "markdown",
   "metadata": {},
   "source": [
    "## 2. Solve Lambert's Problem\n",
    "Solve Lambert's problem as a test case"
   ]
  },
  {
   "cell_type": "code",
   "execution_count": 2,
   "metadata": {},
   "outputs": [
    {
     "name": "stderr",
     "output_type": "stream",
     "text": [
      "┌ Info: Precompiling LambertProblem [3f6f7fb0-271e-4661-b49b-1a3a9d9fa96c]\n",
      "└ @ Base loading.jl:1423\n"
     ]
    },
    {
     "data": {
      "text/plain": [
       "([-12.146901903784702; -30.249196666164888; 1.7328230818673045;;], [-5.062557143526499; 22.77374756805452; -1.0435265077509397;;], 1)"
      ]
     },
     "execution_count": 2,
     "metadata": {},
     "output_type": "execute_result"
    }
   ],
   "source": [
    "using LambertProblem\n",
    "using LinearAlgebra\n",
    "\n",
    "# Gravity Constant\n",
    "μ = SPICE.bodvrd(\"SUN\", \"GM\", 1)[1]\n",
    "\n",
    "# Flight Time\n",
    "et1 = SPICE.str2et(\"2031/03/01 00:00:00 UTC\") # 地球出発日時, UTC\n",
    "et2 = SPICE.str2et(\"2032/01/01 00:00:00 UTC\") # 火星到着日時, UTC\n",
    "tof = et2 - et1 # 飛行時間\n",
    "\n",
    "#　Earth and Mars Orbital Element\n",
    "state_earth, _ = SPICE.spkez(399, et1, \"ECLIPJ2000\", \"NONE\", 10)\n",
    "state_mars, _ = SPICE.spkez(4, et2, \"ECLIPJ2000\", \"NONE\", 10)\n",
    "\n",
    "r1 = state_earth[1:3]\n",
    "r2 = state_mars[1:3]\n",
    "\n",
    "# Solve Lambert's Problem\n",
    "v1, v2, num_sol = lambert_problem(r1,r2,tof,μ,2)"
   ]
  },
  {
   "cell_type": "markdown",
   "metadata": {},
   "source": [
    "## 3. Run Multiple Lambert's Problems"
   ]
  },
  {
   "cell_type": "code",
   "execution_count": 27,
   "metadata": {},
   "outputs": [
    {
     "name": "stdout",
     "output_type": "stream",
     "text": [
      "Householder iteration reaches maximum iteration!\n"
     ]
    }
   ],
   "source": [
    "# Gravity Constant\n",
    "μ = SPICE.bodvrd(\"SUN\", \"GM\", 1)[1]\n",
    "\n",
    "# Flight Time\n",
    "utc1_ini = \"2031/03/01 00:00:00 UTC\" # 地球出発日時, UTC\n",
    "utc2_ini = \"2032/01/01 00:00:00 UTC\" #  火星到着日時, UTC\n",
    "et1_ini = SPICE.str2et(utc1_ini) \n",
    "et2_ini = SPICE.str2et(utc2_ini)\n",
    "\n",
    "# Number of Time Grid\n",
    "delta_et = 1.0*86400 # 5 days -> sec\n",
    "num_grid_et1 = 1000\n",
    "num_grid_et2 = 1200\n",
    "\n",
    "# Declare Data Storage\n",
    "vinf1_all = zeros(num_grid_et1, num_grid_et2)\n",
    "vinf2_all = zeros(num_grid_et1, num_grid_et2)\n",
    "\n",
    "# Iteration\n",
    "for i = 1:num_grid_et1\n",
    "    for j = 1:num_grid_et2\n",
    "        # Calculate Transfer Time\n",
    "        et1 = et1_ini + (i-1)*delta_et\n",
    "        et2 = et2_ini + (j-1)*delta_et\n",
    "        tof_sec = et2 - et1\n",
    "\n",
    "        if tof_sec > 1.0\n",
    "            # Get Earth and Mars Positions\n",
    "            state_earth, _ = SPICE.spkez(399, et1, \"ECLIPJ2000\", \"NONE\", 10)\n",
    "            state_mars, _ = SPICE.spkez(4, et2, \"ECLIPJ2000\", \"NONE\", 10)\n",
    "\n",
    "            # Solve Lambert's Problem\n",
    "            v1, v2, num_sol = lambert_problem(state_earth[1:3],state_mars[1:3],tof_sec,μ,0)\n",
    "            vinf1_all[i,j] = norm(v1[:,1]-state_earth[4:6])\n",
    "            vinf2_all[i,j] = norm(v2[:,1]-state_mars[4:6])\n",
    "        end\n",
    "    end\n",
    "end\n",
    "\n"
   ]
  },
  {
   "cell_type": "code",
   "execution_count": 54,
   "metadata": {},
   "outputs": [
    {
     "ename": "LoadError",
     "evalue": "syntax: invalid escape sequence",
     "output_type": "error",
     "traceback": [
      "syntax: invalid escape sequence",
      "",
      "Stacktrace:",
      " [1] top-level scope",
      "   @ In[54]:6",
      " [2] eval",
      "   @ ./boot.jl:373 [inlined]",
      " [3] include_string(mapexpr::typeof(REPL.softscope), mod::Module, code::String, filename::String)",
      "   @ Base ./loading.jl:1196"
     ]
    }
   ],
   "source": [
    "using Plots\n",
    "f = contourf(vinf1_all',levels = range(0, 12, length = 12), c = :jet1, \n",
    "        xlabel=\"Day from \"*utc1_ini, \n",
    "        ylabel=\"Day from \"*utc2_ini,\n",
    "        clims=(0,12),\n",
    "        title=\"Departure V_{\\infty\"\n",
    ")"
   ]
  },
  {
   "cell_type": "code",
   "execution_count": null,
   "metadata": {},
   "outputs": [],
   "source": []
  }
 ],
 "metadata": {
  "kernelspec": {
   "display_name": "Julia 1.7.2",
   "language": "julia",
   "name": "julia-1.7"
  },
  "language_info": {
   "file_extension": ".jl",
   "mimetype": "application/julia",
   "name": "julia",
   "version": "1.7.2"
  },
  "orig_nbformat": 4
 },
 "nbformat": 4,
 "nbformat_minor": 2
}
